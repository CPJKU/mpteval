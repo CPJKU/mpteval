{
 "cells": [
  {
   "cell_type": "code",
   "execution_count": 1,
   "metadata": {},
   "outputs": [
    {
     "name": "stdout",
     "output_type": "stream",
     "text": [
      "CLEANING RESULTS:\n",
      "/share/hel/home/patricia/Research/tmp/mpteval/results/IR_frame_241112_0212.csv\n",
      "/share/hel/home/patricia/Research/tmp/mpteval/results/IR_note_offset_241112_0212.csv\n",
      "/share/hel/home/patricia/Research/tmp/mpteval/results/IR_note_offset_velocity_241112_0212.csv\n",
      "/share/hel/home/patricia/Research/tmp/mpteval/results/musical_articulation_241112_1441.csv\n",
      "/share/hel/home/patricia/Research/tmp/mpteval/results/musical_dynamics_241112_0212.csv\n",
      "/share/hel/home/patricia/Research/tmp/mpteval/results/musical_harmony_241113_2250.csv\n",
      "/share/hel/home/patricia/Research/tmp/mpteval/results/musical_timing_241112_1439.csv\n",
      "\n",
      "/share/hel/home/patricia/Research/tmp/mpteval/results/revnoise_IR_frame_241112_0214_241112_0214.csv\n",
      "/share/hel/home/patricia/Research/tmp/mpteval/results/revnoise_IR_note_offset_241112_0214_241112_0214.csv\n",
      "/share/hel/home/patricia/Research/tmp/mpteval/results/revnoise_IR_note_offset_velocity_241112_0214_241112_0214.csv\n",
      "/share/hel/home/patricia/Research/tmp/mpteval/results/revnoise_musical_articulation_241112_1443_241112_1443.csv\n",
      "/share/hel/home/patricia/Research/tmp/mpteval/results/revnoise_musical_dynamics_241112_0214_241112_0214.csv\n",
      "/share/hel/home/patricia/Research/tmp/mpteval/results/revnoise_musical_harmony_241113_2252_241113_2252.csv\n",
      "/share/hel/home/patricia/Research/tmp/mpteval/results/revnoise_musical_timing_241112_1444_241112_1444.csv\n",
      "\n",
      "POSTER RESULTS:\n",
      "/share/hel/home/patricia/Research/tmp/tri24/results/IR_frame.csv\n",
      "/share/hel/home/patricia/Research/tmp/tri24/results/IR_note_offset.csv\n",
      "/share/hel/home/patricia/Research/tmp/tri24/results/IR_note_offset_velocity.csv\n",
      "/share/hel/home/patricia/Research/tmp/tri24/results/musical_articulation.csv\n",
      "/share/hel/home/patricia/Research/tmp/tri24/results/musical_dynamics.csv\n",
      "/share/hel/home/patricia/Research/tmp/tri24/results/musical_harmony.csv\n",
      "/share/hel/home/patricia/Research/tmp/tri24/results/musical_timing.csv\n",
      "\n",
      "/share/hel/home/patricia/Research/tmp/tri24/results/revnoise_IR_frame.csv\n",
      "/share/hel/home/patricia/Research/tmp/tri24/results/revnoise_IR_note_offset.csv\n",
      "/share/hel/home/patricia/Research/tmp/tri24/results/revnoise_IR_note_offset_velocity.csv\n",
      "/share/hel/home/patricia/Research/tmp/tri24/results/revnoise_musical_articulation.csv\n",
      "/share/hel/home/patricia/Research/tmp/tri24/results/revnoise_musical_dynamics.csv\n",
      "/share/hel/home/patricia/Research/tmp/tri24/results/revnoise_musical_harmony.csv\n",
      "/share/hel/home/patricia/Research/tmp/tri24/results/revnoise_musical_timing.csv\n"
     ]
    },
    {
     "name": "stderr",
     "output_type": "stream",
     "text": [
      "/mnt/data/tmp/patricia/ipykernel_19611/2126148506.py:1: DeprecationWarning: \n",
      "Pyarrow will become a required dependency of pandas in the next major release of pandas (pandas 3.0),\n",
      "(to allow more performant data types, such as the Arrow string type, and better interoperability with other libraries)\n",
      "but was not found to be installed on your system.\n",
      "If this would cause problems for you,\n",
      "please provide us feedback at https://github.com/pandas-dev/pandas/issues/54466\n",
      "        \n",
      "  import pandas as pd\n"
     ]
    }
   ],
   "source": [
    "import pandas as pd\n",
    "import numpy as np\n",
    "\n",
    "import os\n",
    "from glob import glob\n",
    "\n",
    "# gathering results from cleaning\n",
    "results_path = os.path.join(os.path.dirname(os.getcwd()), 'results')\n",
    "results = glob(os.path.join(results_path, '*.csv'))\n",
    "\n",
    "maestro_results = [f for f in results if (not 'revnoise' in f and '24' in f)]\n",
    "revnoise_results = [f for f in results if ('revnoise' in f and '24' in f)]\n",
    "maestro_results.sort()\n",
    "revnoise_results.sort()\n",
    "\n",
    "# get poster results for comparison \n",
    "poster_results_path = '/share/hel/home/patricia/Research/tmp/tri24/results'\n",
    "poster_results = glob(os.path.join(poster_results_path, '*.csv'))\n",
    "\n",
    "poster_maestro_results = [f for f in poster_results if not 'revnoise' in f]\n",
    "poster_revnoise_results = [f for f in poster_results if 'revnoise' in f]\n",
    "\n",
    "poster_maestro_results.sort()\n",
    "poster_maestro_results = poster_maestro_results[:-1] # exclude peamt\n",
    "poster_revnoise_results.sort()\n",
    "\n",
    "print('CLEANING RESULTS:')\n",
    "print(*maestro_results, sep='\\n')\n",
    "print()\n",
    "print(*revnoise_results, sep='\\n')\n",
    "print()\n",
    "\n",
    "print('POSTER RESULTS:')\n",
    "print(*poster_maestro_results, sep='\\n')\n",
    "print()\n",
    "print(*poster_revnoise_results, sep='\\n')"
   ]
  },
  {
   "cell_type": "code",
   "execution_count": null,
   "metadata": {},
   "outputs": [
    {
     "name": "stdout",
     "output_type": "stream",
     "text": [
      "True: IR_frame\n",
      "True: IR_note_offset\n",
      "True: IR_note_offset_velocity\n",
      "True: musical_articulation\n",
      "True: musical_dynamics\n",
      "True: musical_harmony\n",
      "True: musical_timing\n"
     ]
    }
   ],
   "source": [
    "# compare maestro/revnoise results\n",
    "\n",
    "for c, p in zip(maestro_results, poster_maestro_results):  # !! set remove_batik_from_old_res to False\n",
    "# for c, p in zip(revnoise_results, poster_revnoise_results):\n",
    "    \n",
    "    clean_df = pd.read_csv(c)\n",
    "    poster_df = pd.read_csv(p)\n",
    "        \n",
    "    remove_batik_from_old_res = False # old revnoise results include batik\n",
    "    if remove_batik_from_old_res:\n",
    "        # print(f\"removing {poster_df[poster_df['composer'] == 'Mozart'].shape} results\")\n",
    "        poster_df = poster_df[poster_df['composer'] != 'Mozart']\n",
    "    \n",
    "    # compare the two dataframes\n",
    "    clean_df = clean_df.sort_values(by=clean_df.columns.tolist()).reset_index(drop=True)\n",
    "    poster_df = poster_df.sort_values(by=poster_df.columns.tolist()).reset_index(drop=True)\n",
    "    \n",
    "    print(f\"{clean_df.equals(poster_df)}: {'_'.join(c.split('/')[-1].split('.')[0].split('_')[:-2])}\")\n",
    "    \n",
    "    if not clean_df.equals(poster_df):\n",
    "    \n",
    "        print(clean_df.shape, c)\n",
    "        print(poster_df.shape, p)"
   ]
  }
 ],
 "metadata": {
  "kernelspec": {
   "display_name": "mpteval",
   "language": "python",
   "name": "python3"
  },
  "language_info": {
   "codemirror_mode": {
    "name": "ipython",
    "version": 3
   },
   "file_extension": ".py",
   "mimetype": "text/x-python",
   "name": "python",
   "nbconvert_exporter": "python",
   "pygments_lexer": "ipython3",
   "version": "3.9.18"
  }
 },
 "nbformat": 4,
 "nbformat_minor": 2
}
